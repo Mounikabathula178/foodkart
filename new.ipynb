{
 "cells": [
  {
   "cell_type": "code",
   "execution_count": 1,
   "id": "8cdcf7f0",
   "metadata": {},
   "outputs": [
    {
     "name": "stdout",
     "output_type": "stream",
     "text": [
      "cherries       83.0\n",
      "oranges        46.0\n",
      "peaches         NaN\n",
      "pears          42.0\n",
      "raspberries     NaN\n",
      "dtype: float64\n"
     ]
    }
   ],
   "source": [
    "import pandas as pd\n",
    "fruits = ['peaches', 'oranges', 'cherries', 'pears']\n",
    "fruits2 = ['raspberries', 'oranges', 'cherries', 'pears']\n",
    "\n",
    "S = pd.Series([20, 33, 52, 10], index=fruits)\n",
    "S2 = pd.Series([17, 13, 31, 32], index=fruits2)\n",
    "print(S + S2)"
   ]
  },
  {
   "cell_type": "code",
   "execution_count": 9,
   "id": "21fa1925",
   "metadata": {},
   "outputs": [
    {
     "name": "stdout",
     "output_type": "stream",
     "text": [
      "oranges    33\n",
      "dtype: int64\n",
      "oranges     33\n",
      "cherries    52\n",
      "pears       10\n",
      "dtype: int64\n"
     ]
    }
   ],
   "source": [
    "import pandas as pd\n",
    "fruits = ['peaches', 'oranges', 'cherries', 'pears']\n",
    "\n",
    "S = pd.Series([20, 33, 52, 10], index=fruits)\n",
    "print(S[['oranges']])\n",
    "print(S[[ 'oranges', 'cherries','pears']])"
   ]
  },
  {
   "cell_type": "code",
   "execution_count": 10,
   "id": "b6262847",
   "metadata": {},
   "outputs": [
    {
     "name": "stdout",
     "output_type": "stream",
     "text": [
      "oranges    33\n",
      "dtype: int64\n",
      "oranges     33\n",
      "cherries    52\n",
      "pears       10\n",
      "dtype: int64\n",
      "peaches      92\n",
      "oranges     144\n",
      "cherries    220\n",
      "pears        52\n",
      "dtype: int64\n",
      "======================\n",
      "peaches     0.912945\n",
      "oranges     0.999912\n",
      "cherries    0.986628\n",
      "pears      -0.544021\n",
      "dtype: float64\n"
     ]
    }
   ],
   "source": [
    "import pandas as pd\n",
    "fruits = ['peaches', 'oranges', 'cherries', 'pears']\n",
    "\n",
    "S = pd.Series([20, 33, 52, 10], index=fruits)\n",
    "print(S[[ 'oranges']])\n",
    "print(S[[ 'oranges', 'cherries','pears']])\n",
    "import numpy as np\n",
    "print((S + 3) * 4)\n",
    "print(\"======================\")\n",
    "print(np.sin(S))\n"
   ]
  },
  {
   "cell_type": "code",
   "execution_count": 1,
   "id": "67743514",
   "metadata": {},
   "outputs": [
    {
     "name": "stdout",
     "output_type": "stream",
     "text": [
      "London       8615246\n",
      "Berlin       3562166\n",
      "Madrid       3165235\n",
      "Rome         2874038\n",
      "Paris        2273305\n",
      "Vienna       1805681\n",
      "Bucharest    1803425\n",
      "Hamburg      1760433\n",
      "Budapest     1754000\n",
      "Warsaw       1740119\n",
      "Barcelona    1602386\n",
      "Munich       1493900\n",
      "Milan        1350680\n",
      "dtype: int64\n",
      "1350680\n"
     ]
    }
   ],
   "source": [
    "import pandas as pd\n",
    "cities = {\"London\":    8615246, \n",
    "          \"Berlin\":    3562166, \n",
    "          \"Madrid\":    3165235, \n",
    "          \"Rome\":      2874038, \n",
    "          \"Paris\":     2273305, \n",
    "          \"Vienna\":    1805681, \n",
    "          \"Bucharest\": 1803425, \n",
    "          \"Hamburg\":   1760433,\n",
    "          \"Budapest\":  1754000,\n",
    "          \"Warsaw\":    1740119,\n",
    "          \"Barcelona\": 1602386,\n",
    "          \"Munich\":    1493900,\n",
    "          \"Milan\":     1350680}\n",
    "\n",
    "city_series = pd.Series(cities)\n",
    "print(city_series)\n",
    "print(city_series[\"Milan\"])\n",
    "\n",
    "\n"
   ]
  },
  {
   "cell_type": "code",
   "execution_count": 2,
   "id": "58d5d220",
   "metadata": {},
   "outputs": [
    {
     "name": "stdout",
     "output_type": "stream",
     "text": [
      "London       8615246\n",
      "Berlin       3562166\n",
      "Madrid       3165235\n",
      "Rome         2874038\n",
      "Paris        2273305\n",
      "Vienna       1805681\n",
      "Bucharest    1803425\n",
      "Hamburg      1760433\n",
      "Budapest     1754000\n",
      "Warsaw       1740119\n",
      "Barcelona    1602386\n",
      "Munich       1493900\n",
      "Milan        1350680\n",
      "dtype: int64\n",
      "1350680\n",
      "London       8615246.0\n",
      "Paris        2273305.0\n",
      "Zurich             NaN\n",
      "Berlin       3562166.0\n",
      "Stuttgart          NaN\n",
      "Hamburg      1760433.0\n",
      "dtype: float64\n"
     ]
    }
   ],
   "source": [
    "import pandas as pd\n",
    "cities = {\"London\":    8615246, \n",
    "          \"Berlin\":    3562166, \n",
    "          \"Madrid\":    3165235, \n",
    "          \"Rome\":      2874038, \n",
    "          \"Paris\":     2273305, \n",
    "          \"Vienna\":    1805681, \n",
    "          \"Bucharest\": 1803425, \n",
    "          \"Hamburg\":   1760433,\n",
    "          \"Budapest\":  1754000,\n",
    "          \"Warsaw\":    1740119,\n",
    "          \"Barcelona\": 1602386,\n",
    "          \"Munich\":    1493900,\n",
    "          \"Milan\":     1350680}\n",
    "\n",
    "city_series = pd.Series(cities)\n",
    "print(city_series)\n",
    "print(city_series[\"Milan\"])\n",
    "\n",
    "my_cities = [\"London\", \"Paris\", \"Zurich\", \"Berlin\", \n",
    "             \"Stuttgart\", \"Hamburg\"]\n",
    "\n",
    "my_city_series = pd.Series(cities, \n",
    "                           index=my_cities)\n",
    "print(my_city_series)"
   ]
  },
  {
   "cell_type": "code",
   "execution_count": 4,
   "id": "926e1785",
   "metadata": {},
   "outputs": [
    {
     "name": "stdout",
     "output_type": "stream",
     "text": [
      "London       False\n",
      "Paris        False\n",
      "Zurich        True\n",
      "Berlin       False\n",
      "Stuttgart     True\n",
      "Hamburg      False\n",
      "dtype: bool\n"
     ]
    }
   ],
   "source": [
    "print(my_city_series.isnull())\n",
    "\n",
    "\n",
    "\n",
    " "
   ]
  },
  {
   "cell_type": "code",
   "execution_count": 5,
   "id": "f8524a80",
   "metadata": {},
   "outputs": [
    {
     "name": "stdout",
     "output_type": "stream",
     "text": [
      "0    P\n",
      "1    a\n",
      "2    n\n",
      "3    d\n",
      "4    a\n",
      "5    s\n",
      "dtype: object\n"
     ]
    }
   ],
   "source": [
    "import pandas as pd  \n",
    "import numpy as np  \n",
    "info = np.array(['P','a','n','d','a','s'])  \n",
    "a = pd.Series(info)  \n",
    "print(a)"
   ]
  },
  {
   "cell_type": "code",
   "execution_count": 6,
   "id": "09ee8dd4",
   "metadata": {},
   "outputs": [
    {
     "name": "stdout",
     "output_type": "stream",
     "text": [
      "        0\n",
      "0  Python\n",
      "1  Pandas\n"
     ]
    }
   ],
   "source": [
    "\n",
    "import pandas as pd  \n",
    "# a list of strings  \n",
    "x = ['Python', 'Pandas']  \n",
    "\n",
    "# Calling DataFrame constructor on list  \n",
    "df = pd.DataFrame(x)  \n",
    "print(df)  "
   ]
  },
  {
   "cell_type": "code",
   "execution_count": 7,
   "id": "efbebe2f",
   "metadata": {},
   "outputs": [
    {
     "name": "stdout",
     "output_type": "stream",
     "text": [
      "      Name  sub1_Marks  sub2_Marks\n",
      "0   Parker          52          41\n",
      "1    Smith          38          35\n",
      "2     John          42          29\n",
      "3  William          37          36\n",
      "sub1_Marks    6.849574\n",
      "sub2_Marks    4.924429\n",
      "dtype: float64\n",
      "sub1_Marks    42.25\n",
      "sub2_Marks    35.25\n",
      "dtype: float64\n"
     ]
    },
    {
     "name": "stderr",
     "output_type": "stream",
     "text": [
      "C:\\Users\\hp\\AppData\\Local\\Temp\\ipykernel_16752\\2438372154.py:9: FutureWarning: The default value of numeric_only in DataFrame.std is deprecated. In a future version, it will default to False. In addition, specifying 'numeric_only=None' is deprecated. Select only valid columns or specify the value of numeric_only to silence this warning.\n",
      "  print(data.std())\n",
      "C:\\Users\\hp\\AppData\\Local\\Temp\\ipykernel_16752\\2438372154.py:10: FutureWarning: The default value of numeric_only in DataFrame.mean is deprecated. In a future version, it will default to False. In addition, specifying 'numeric_only=None' is deprecated. Select only valid columns or specify the value of numeric_only to silence this warning.\n",
      "  print(data.mean())\n"
     ]
    }
   ],
   "source": [
    "import pandas as pd  \n",
    "import numpy as np  \n",
    "\n",
    "#Create a DataFrame  \n",
    "info = {'Name':['Parker','Smith','John','William'],'sub1_Marks':[52,38,42,37], 'sub2_Marks':[41,35,29,36]}   \n",
    "data = pd.DataFrame(info)  \n",
    "print(data  )\n",
    "# standard deviation of the dataframe  \n",
    "print(data.std())\n",
    "print(data.mean())\n"
   ]
  },
  {
   "cell_type": "code",
   "execution_count": 29,
   "id": "046b381c",
   "metadata": {},
   "outputs": [
    {
     "name": "stdout",
     "output_type": "stream",
     "text": [
      "0    a\n",
      "1    b\n",
      "2    c\n",
      "Name: vals, dtype: object\n"
     ]
    }
   ],
   "source": [
    "import pandas as pd  \n",
    "import numpy as np  \n",
    "\n",
    "s = pd.Series([\"a\", \"b\", \"c\"],name=\"vals\")  \n",
    "s.to_frame()\n",
    "print(s)\n"
   ]
  },
  {
   "cell_type": "code",
   "execution_count": 9,
   "id": "3cad21ec",
   "metadata": {},
   "outputs": [
    {
     "name": "stdout",
     "output_type": "stream",
     "text": [
      "Add new column by passing series\n",
      "   one  two  three\n",
      "a  1.0    1   20.0\n",
      "b  2.0    2   40.0\n",
      "c  3.0    3   60.0\n",
      "d  4.0    4    NaN\n",
      "e  5.0    5    NaN\n",
      "f  NaN    6    NaN\n",
      "Add new column using existing DataFrame columns\n",
      "   one  two  three  four\n",
      "a  1.0    1   20.0  21.0\n",
      "b  2.0    2   40.0  42.0\n",
      "c  3.0    3   60.0  63.0\n",
      "d  4.0    4    NaN   NaN\n",
      "e  5.0    5    NaN   NaN\n",
      "f  NaN    6    NaN   NaN\n"
     ]
    }
   ],
   "source": [
    "import pandas as pd  \n",
    "import numpy as np  \n",
    "\n",
    "info = {'one' : pd.Series([1, 2, 3, 4, 5], index=['a', 'b', 'c', 'd', 'e']),'two' : pd.Series([1, 2, 3, 4, 5, 6], index=['a', 'b', 'c', 'd', 'e', 'f'])}  \n",
    "\n",
    "df = pd.DataFrame(info)  \n",
    "\n",
    "# Add a new column to an existing DataFrame object   \n",
    "\t  \n",
    "print (\"Add new column by passing series\")  \n",
    "df['three']=pd.Series([20,40,60],index=['a','b','c'])  \n",
    "print (df)  \n",
    "\n",
    "print (\"Add new column using existing DataFrame columns\")  \n",
    "df['four']=df['one']+df['three']  \n",
    "\t  \n",
    "print (df)  \n"
   ]
  },
  {
   "cell_type": "code",
   "execution_count": 10,
   "id": "89deca0f",
   "metadata": {},
   "outputs": [
    {
     "name": "stdout",
     "output_type": "stream",
     "text": [
      "Add new column by passing series\n",
      "   one  two  three\n",
      "a  1.0    1   20.0\n",
      "b  2.0    2   40.0\n",
      "c  3.0    3   60.0\n",
      "d  4.0    4    NaN\n",
      "e  5.0    5    NaN\n",
      "f  NaN    6    NaN\n",
      "Add new column using existing DataFrame columns\n",
      "   one  two  three  four\n",
      "a  1.0    1   20.0  21.0\n",
      "b  2.0    2   40.0  42.0\n",
      "c  3.0    3   60.0  63.0\n",
      "d  4.0    4    NaN   NaN\n",
      "e  5.0    5    NaN   NaN\n",
      "f  NaN    6    NaN   NaN\n",
      "   two  three  four\n",
      "a    1   20.0  21.0\n",
      "b    2   40.0  42.0\n",
      "c    3   60.0  63.0\n",
      "d    4    NaN   NaN\n",
      "e    5    NaN   NaN\n",
      "f    6    NaN   NaN\n"
     ]
    }
   ],
   "source": [
    "import pandas as pd  \n",
    "import numpy as np  \n",
    "\n",
    "info = {'one' : pd.Series([1, 2, 3, 4, 5], index=['a', 'b', 'c', 'd', 'e']),'two' : pd.Series([1, 2, 3, 4, 5, 6], index=['a', 'b', 'c', 'd', 'e', 'f'])}  \n",
    "\n",
    "df = pd.DataFrame(info)  \n",
    "\n",
    "# Add a new column to an existing DataFrame object   \n",
    "\t  \n",
    "print (\"Add new column by passing series\")  \n",
    "df['three']=pd.Series([20,40,60],index=['a','b','c'])  \n",
    "print (df)  \n",
    "\n",
    "print (\"Add new column using existing DataFrame columns\")  \n",
    "df['four']=df['one']+df['three']  \n",
    "\t  \n",
    "print (df)  \n",
    "del df['one']\n",
    "print(df)"
   ]
  },
  {
   "cell_type": "code",
   "execution_count": 11,
   "id": "774d07c4",
   "metadata": {},
   "outputs": [
    {
     "name": "stdout",
     "output_type": "stream",
     "text": [
      "one    2.0\n",
      "two    2.0\n",
      "Name: b, dtype: float64\n"
     ]
    }
   ],
   "source": [
    "import pandas as pd  \n",
    "import numpy as np  \n",
    "\n",
    "\n",
    "\n",
    "info = {'one' : pd.Series([1, 2, 3, 4, 5], index=['a', 'b', 'c', 'd', 'e']),   \n",
    "'two' : pd.Series([1, 2, 3, 4, 5, 6], index=['a', 'b', 'c', 'd', 'e', 'f'])}  \n",
    "\n",
    "df = pd.DataFrame(info)  \n",
    "print (df.loc['b'])  \n"
   ]
  },
  {
   "cell_type": "code",
   "execution_count": 5,
   "id": "0b90e617",
   "metadata": {},
   "outputs": [
    {
     "name": "stdout",
     "output_type": "stream",
     "text": [
      "    x   y\n",
      "0   4   5\n",
      "1   6   7\n",
      "0   8   9\n",
      "1  10  11\n",
      "    x   y\n",
      "1   6   7\n",
      "1  10  11\n"
     ]
    },
    {
     "name": "stderr",
     "output_type": "stream",
     "text": [
      "C:\\Users\\hp\\AppData\\Local\\Temp\\ipykernel_21320\\2354724255.py:9: FutureWarning: The frame.append method is deprecated and will be removed from pandas in a future version. Use pandas.concat instead.\n",
      "  a_info = a_info.append(b_info)\n"
     ]
    }
   ],
   "source": [
    "import pandas as pd  \n",
    "import numpy as np  \n",
    "\n",
    "\n",
    "\n",
    "a_info = pd.DataFrame([[4, 5], [6, 7]], columns = ['x','y'])  \n",
    "b_info = pd.DataFrame([[8, 9], [10, 11]], columns = ['x','y'])  \n",
    "\n",
    "a_info = a_info.append(b_info)  \n",
    "print(a_info)\n",
    "# Drop rows with label 0  \n",
    "a_info = a_info.drop(0)  \n",
    "print(a_info)\n"
   ]
  },
  {
   "cell_type": "code",
   "execution_count": 20,
   "id": "1d9a7f5a",
   "metadata": {},
   "outputs": [
    {
     "ename": "IndentationError",
     "evalue": "unindent does not match any outer indentation level (<tokenize>, line 7)",
     "output_type": "error",
     "traceback": [
      "\u001b[1;36m  File \u001b[1;32m<tokenize>:7\u001b[1;36m\u001b[0m\n\u001b[1;33m    print(\"Calling protected member of base class: \", self._a)\u001b[0m\n\u001b[1;37m    ^\u001b[0m\n\u001b[1;31mIndentationError\u001b[0m\u001b[1;31m:\u001b[0m unindent does not match any outer indentation level\n"
     ]
    }
   ],
   "source": [
    "class Base:\n",
    "    def __init__(self):\n",
    "        self._a = 2\n",
    "class Derived(Base):\n",
    "\tdef __init__(self):\n",
    "\tBase.__init__(self):\n",
    "    print(\"Calling protected member of base class: \", self._a)\n",
    "    self._a = 3\n",
    "    print(\"Calling modified protected member outside class: \", self._a)\n",
    "obj1 = Derived()\n",
    "obj2 = Base()\n",
    "print(\"Accessing protected member of obj1: \", obj1._a)\n",
    "print(\"Accessing protected member of obj2: \", obj2._a)\n"
   ]
  },
  {
   "cell_type": "code",
   "execution_count": 22,
   "id": "7b6ee73f",
   "metadata": {},
   "outputs": [
    {
     "name": "stdout",
     "output_type": "stream",
     "text": [
      "First number = 1000\n",
      "Second number = 2000\n",
      "Addition of two numbers = 3000\n",
      "First number = 10\n",
      "Second number = 20\n",
      "Addition of two numbers = 30\n"
     ]
    }
   ],
   "source": [
    "class Addition:\n",
    "      first = 0\n",
    "      second = 0\n",
    "      answer = 0\n",
    "      def __init__(self, f, s):\n",
    "            self.first = f\n",
    "            self.second = s\n",
    "      def display(self):\n",
    "            print(\"First number = \" + str(self.first))\n",
    "            print(\"Second number = \" + str(self.second))\n",
    "            print(\"Addition of two numbers = \" + str(self.answer))\n",
    "\n",
    "      def calculate(self):\n",
    "            self.answer = self.first + self.second\n",
    "obj1 = Addition(1000, 2000)\n",
    "obj2 = Addition(10, 20)\n",
    "obj1.calculate()\n",
    "obj2.calculate()\n",
    "obj1.display()\n",
    "obj2.display()\n"
   ]
  },
  {
   "cell_type": "code",
   "execution_count": 23,
   "id": "a02e1303",
   "metadata": {},
   "outputs": [
    {
     "name": "stdout",
     "output_type": "stream",
     "text": [
      "I like to eat bones\n"
     ]
    }
   ],
   "source": [
    "class Animal:\n",
    "    name = \"\"\n",
    "    def eat(self):\n",
    "        print(\"I can eat\")\n",
    "class Dog(Animal):\n",
    "    def eat(self):\n",
    "        print(\"I like to eat bones\")\n",
    "labrador = Dog()\n",
    "labrador.eat()\n"
   ]
  },
  {
   "cell_type": "code",
   "execution_count": 27,
   "id": "92c6f393",
   "metadata": {},
   "outputs": [
    {
     "name": "stdout",
     "output_type": "stream",
     "text": [
      "11\n",
      "Hi All How are You ?\n"
     ]
    }
   ],
   "source": [
    "def product(a, b):\n",
    "\tp = a * b\n",
    "\tprint(p)\n",
    "def product(a, b, c):\n",
    "\tp = a * b*c\n",
    "\tprint(p)\n",
    "    \n",
    "def add(datatype, *args):\n",
    "      if datatype == 'int':\n",
    "            answer = 0\n",
    "      if datatype == 'str':\n",
    "            answer = ''\n",
    "      for x in args:\n",
    "            answer = answer + x\n",
    "      print(answer)\n",
    "add('int', 5, 6)\n",
    "add('str', 'Hi ', 'All ', \"How are \", \"You ?\")\n"
   ]
  },
  {
   "cell_type": "code",
   "execution_count": 30,
   "id": "953ae8c0",
   "metadata": {},
   "outputs": [
    {
     "name": "stdout",
     "output_type": "stream",
     "text": [
      "Array with Rank 1: \n",
      " [1 2 3]\n",
      "Array with Rank 2: \n",
      " [[1 2 3]\n",
      " [4 5 6]]\n",
      "\n",
      "Array created using passed tuple:\n",
      " [1 3 2]\n"
     ]
    }
   ],
   "source": [
    "import numpy as np\n",
    " \n",
    "arr = np.array([1, 2, 3])\n",
    "print(\"Array with Rank 1: \\n\",arr)\n",
    " \n",
    "arr = np.array([[1, 2, 3],[4, 5, 6]])\n",
    "print(\"Array with Rank 2: \\n\", arr)\n",
    " \n",
    "# Creating an array from tuple\n",
    "arr = np.array((1, 3, 2))\n",
    "print(\"\\nArray created using passed tuple:\\n\", arr)"
   ]
  },
  {
   "cell_type": "code",
   "execution_count": 31,
   "id": "ca9b23fe",
   "metadata": {},
   "outputs": [
    {
     "name": "stdout",
     "output_type": "stream",
     "text": [
      "Adding 1 to every element: [[2 3]\n",
      " [4 5]]\n",
      "\n",
      "Subtracting 2 from each element: [[ 2  1]\n",
      " [ 0 -1]]\n",
      "\n",
      "Sum of all array elements:  10\n",
      "\n",
      "Array sum:\n",
      " [[5 5]\n",
      " [5 5]]\n"
     ]
    }
   ],
   "source": [
    "import numpy as np\n",
    " \n",
    "\n",
    "a = np.array([[1, 2],[3, 4]])\n",
    " \n",
    "b = np.array([[4, 3],[2, 1]])\n",
    "\n",
    "print (\"Adding 1 to every element:\", a + 1)\n",
    "\n",
    "print (\"\\nSubtracting 2 from each element:\", b - 2)\n",
    " \n",
    "print (\"\\nSum of all array elements: \", a.sum())\n",
    " \n",
    "print (\"\\nArray sum:\\n\", a + b)"
   ]
  },
  {
   "cell_type": "code",
   "execution_count": 40,
   "id": "a1f26cd6",
   "metadata": {},
   "outputs": [
    {
     "name": "stdout",
     "output_type": "stream",
     "text": [
      "[[1. 2.]\n",
      " [3. 4.]]\n",
      "[[1. 3.]\n",
      " [2. 4.]]\n",
      "[[1. 0. 0.]\n",
      " [0. 1. 0.]\n",
      " [0. 0. 1.]]\n"
     ]
    }
   ],
   "source": [
    "import numpy as np\n",
    "\n",
    "a = np.array([[1.0, 2.0], [3.0, 4.0]])\n",
    "print(a)\n",
    "\n",
    "print( a.transpose() )\n",
    "u = np.eye(3)\n",
    "print(u)"
   ]
  },
  {
   "cell_type": "code",
   "execution_count": 33,
   "id": "09393972",
   "metadata": {},
   "outputs": [
    {
     "name": "stdout",
     "output_type": "stream",
     "text": [
      "[1 2 3 4 5 6]\n"
     ]
    }
   ],
   "source": [
    "import numpy as np\n",
    "\n",
    "arr1 = np.array([1, 2, 3])\n",
    "\n",
    "arr2 = np.array([4, 5, 6])\n",
    "\n",
    "arr = np.concatenate((arr1, arr2))\n",
    "\n",
    "print(arr)\n"
   ]
  },
  {
   "cell_type": "code",
   "execution_count": 36,
   "id": "cc3cdd5c",
   "metadata": {},
   "outputs": [
    {
     "name": "stdout",
     "output_type": "stream",
     "text": [
      "[array([1, 2]), array([3]), array([4]), array([5]), array([6])]\n"
     ]
    }
   ],
   "source": [
    "import numpy as np\n",
    "\n",
    "arr = np.array([1, 2, 3, 4, 5, 6])\n",
    "\n",
    "newarr = np.array_split(arr, 5)\n",
    "\n",
    "print(newarr)"
   ]
  },
  {
   "cell_type": "code",
   "execution_count": 35,
   "id": "26f353f0",
   "metadata": {},
   "outputs": [
    {
     "name": "stdout",
     "output_type": "stream",
     "text": [
      "[0 1 2 3]\n"
     ]
    }
   ],
   "source": [
    "import numpy as np\n",
    "\n",
    "arr = np.array([3, 2, 0, 1])\n",
    "\n",
    "print(np.sort(arr))\n"
   ]
  },
  {
   "cell_type": "code",
   "execution_count": 41,
   "id": "7b21af82",
   "metadata": {},
   "outputs": [
    {
     "name": "stdout",
     "output_type": "stream",
     "text": [
      "Error: Cannot find a file\n",
      "End of the program\n"
     ]
    }
   ],
   "source": [
    "try:\n",
    "      f=open(\"Ram.txt\",\"r\")\n",
    "      s=f.read()\n",
    "      print(s)\n",
    "except IOError:\n",
    "      print(\"Error: Cannot find a file\")\n",
    "else:\n",
    "      print(\"File has been read successfully\")\n",
    "finally:\n",
    "      print(\"End of the program\")\n"
   ]
  },
  {
   "cell_type": "code",
   "execution_count": 45,
   "id": "4cf0aea3",
   "metadata": {},
   "outputs": [
    {
     "name": "stdout",
     "output_type": "stream",
     "text": [
      "Enter any number= 3\n",
      "Enter any number = 5\n"
     ]
    },
    {
     "ename": "NameError",
     "evalue": "name 'divion' is not defined",
     "output_type": "error",
     "traceback": [
      "\u001b[1;31m---------------------------------------------------------------------------\u001b[0m",
      "\u001b[1;31mNameError\u001b[0m                                 Traceback (most recent call last)",
      "Cell \u001b[1;32mIn[45], line 10\u001b[0m\n\u001b[0;32m      8\u001b[0m n\u001b[38;5;241m=\u001b[39m\u001b[38;5;28mint\u001b[39m(\u001b[38;5;28minput\u001b[39m(\u001b[38;5;124m\"\u001b[39m\u001b[38;5;124mEnter any number= \u001b[39m\u001b[38;5;124m\"\u001b[39m))\n\u001b[0;32m      9\u001b[0m m\u001b[38;5;241m=\u001b[39m\u001b[38;5;28mint\u001b[39m(\u001b[38;5;28minput\u001b[39m(\u001b[38;5;124m\"\u001b[39m\u001b[38;5;124mEnter any number = \u001b[39m\u001b[38;5;124m\"\u001b[39m))\n\u001b[1;32m---> 10\u001b[0m \u001b[38;5;28mprint\u001b[39m(\u001b[43mdivion\u001b[49m(n,m))\n",
      "\u001b[1;31mNameError\u001b[0m: name 'divion' is not defined"
     ]
    }
   ],
   "source": [
    "\n",
    "\n",
    "def division(a,b):\n",
    "    try:\n",
    "        result=a/b\n",
    "        print(resut)\n",
    "    except NameError:\n",
    "        print(\"Name error....Variable not found..!\")\n",
    "        \n",
    "n=int(input(\"Enter any number= \"))\n",
    "m=int(input(\"Enter any number = \"))\n",
    "print(divion(n,m))\n"
   ]
  },
  {
   "cell_type": "code",
   "execution_count": 47,
   "id": "dc3f46d5",
   "metadata": {},
   "outputs": [
    {
     "name": "stdout",
     "output_type": "stream",
     "text": [
      "Enter any thing:::: we wish u a happy birthday\n",
      "Value should contain number\n",
      "None\n"
     ]
    }
   ],
   "source": [
    "def temp_convert(v):\n",
    "    try:\n",
    "        return int(v)\n",
    "    except ValueError:\n",
    "        print(\"Value should contain number\")\n",
    "        \n",
    "n=input(\"Enter any thing::::\")\n",
    "print(temp_convert(n))\n"
   ]
  },
  {
   "cell_type": "code",
   "execution_count": 48,
   "id": "3eb6e260",
   "metadata": {},
   "outputs": [
    {
     "name": "stdout",
     "output_type": "stream",
     "text": [
      "Dharma\n",
      "Varma\n",
      "TypeError: Check list of indices\n"
     ]
    }
   ],
   "source": [
    "\"\"\"\n",
    "\n",
    "def division(a,b):\n",
    "    \n",
    "    try:\n",
    "        result=a/b\n",
    "        print(result)\n",
    "    except TypeError:\n",
    "        print(\"String is not accepted..!\")\n",
    "    except ZeroDivisionError:\n",
    "        print(\"Division by zero.....!\")\n",
    "        \n",
    "n=input(\"Enter any number= \")\n",
    "m=input(\"Enter any number = \")\n",
    "print(division(n,m))\n",
    "\n",
    "\n",
    "\n",
    "\"\"\"\n",
    "\n",
    "\n",
    "L1 = [\"Dharma\", \"Varma\", \"Vinay\"]\n",
    "indices = [0, 1, \"2\"]\n",
    "for i in range(len(indices)):\n",
    "\ttry:\n",
    "\t\tprint(L1[indices[i]])\n",
    "\texcept TypeError:\n",
    "\t\tprint(\"TypeError: Check list of indices\")\n",
    "\n",
    "\n",
    "\n",
    "\n",
    "\n",
    "\n",
    "\n",
    "\n",
    "\n"
   ]
  },
  {
   "cell_type": "code",
   "execution_count": 5,
   "id": "5c7c2de1",
   "metadata": {},
   "outputs": [
    {
     "data": {
      "image/png": "[encoded data removed]",
      "text/plain": [
       "<Figure size 640x480 with 1 Axes>"
      ]
     },
     "metadata": {},
     "output_type": "display_data"
    }
   ],
   "source": [
    "from matplotlib import pyplot as plt  \n",
    "#ploting our canvas  \n",
    "plt.plot([1,2,3],[4,5,1])  \n",
    "#display the graph  \n",
    "plt.show()  \n"
   ]
  },
  {
   "cell_type": "code",
   "execution_count": 10,
   "id": "459284e4",
   "metadata": {},
   "outputs": [
    {
     "data": {
      "image/png": "[encoded data removed]",
      "text/plain": [
       "<Figure size 640x480 with 1 Axes>"
      ]
     },
     "metadata": {},
     "output_type": "display_data"
    }
   ],
   "source": [
    "from matplotlib import pyplot as plt  \n",
    "plt.plot([1, 2, 3, 4,5], [1, 4, 9, 16,25], '^k')  \n",
    "plt.axis([0, 6, 0, 20])  \n",
    "plt.show()  \n"
   ]
  },
  {
   "cell_type": "code",
   "execution_count": 7,
   "id": "f932bd41",
   "metadata": {},
   "outputs": [
    {
     "data": {
      "image/png": "[encoded data removed]",
      "text/plain": [
       "<Figure size 640x480 with 1 Axes>"
      ]
     },
     "metadata": {},
     "output_type": "display_data"
    }
   ],
   "source": [
    "from matplotlib import pyplot as plt\n",
    "x=[5,2,7]\n",
    "y=[1,10,4]\n",
    "plt.plot(x,y)\n",
    "plt.title('Line graph')\n",
    "plt.ylabel('Y asis')\n",
    "plt.xlabel('X axis')  \n",
    "plt.show()  \n"
   ]
  },
  {
   "cell_type": "code",
   "execution_count": 19,
   "id": "73d7e19f",
   "metadata": {},
   "outputs": [
    {
     "data": {
      "image/png": "[encoded data removed]",
      "text/plain": [
       "<Figure size 800x400 with 3 Axes>"
      ]
     },
     "metadata": {},
     "output_type": "display_data"
    }
   ],
   "source": [
    "from matplotlib import pyplot  \n",
    "names = ['Abhishek', 'Himanshu', 'Devansh']  \n",
    "marks= [87,50,98]  \n",
    "plt.figure(figsize=(8,4))  \n",
    "plt.subplot(131)  \n",
    "plt.bar(names, marks)  \n",
    "plt.subplot(132)  \n",
    "plt.scatter(names, marks)  \n",
    "plt.subplot(133)  \n",
    "plt.plot(names, marks)  \n",
    "plt.suptitle('Categorical Plotting')  \n",
    "plt.show()"
   ]
  },
  {
   "cell_type": "code",
   "execution_count": null,
   "id": "bcb844dc",
   "metadata": {},
   "outputs": [],
   "source": [
    "from matplotlib import pyplot as plt  \n",
    "from matplotlib import style  \n",
    "x = [16, 8, 10]  \n",
    "y = [8, 16, 6]  \n",
    "x2 = [8, 15, 11]  \n",
    "y2 = [6, 15, 7]  \n",
    "plt.plot(x, y, 'r', label='line one', linewidth=5)  \n",
    "plt.plot(x2, y2, 'm', label='line two', linewidth=5)  \n",
    "plt.title('Epic Info')  \n",
    "fig = plt.figure()  \n",
    "plt.ylabel('Y axis')  \n",
    "plt.xlabel('X axis')\n",
    "plt.legend(loc=upper)\n",
    "plt.grid(True, color='k')  \n",
    "plt.show()  \n"
   ]
  },
  {
   "cell_type": "code",
   "execution_count": 25,
   "id": "51d91515",
   "metadata": {},
   "outputs": [
    {
     "data": {
      "text/plain": [
       "[<matplotlib.lines.Line2D at 0x2328c276710>]"
      ]
     },
     "execution_count": 25,
     "metadata": {},
     "output_type": "execute_result"
    },
    {
     "data": {
      "image/png": "[encoded data removed]",
      "text/plain": [
       "<Figure size 640x480 with 1 Axes>"
      ]
     },
     "metadata": {},
     "output_type": "display_data"
    }
   ],
   "source": [
    "import numpy as np  \n",
    "import matplotlib.pyplot as plt  \n",
    " \n",
    "fig = plt.figure()  \n",
    "ax = plt.axes()  \n",
    "x = np.linspace(0, 10, 1000)\n",
    "ax.plot(x, np.sin(x))  \n",
    "\n"
   ]
  },
  {
   "cell_type": "code",
   "execution_count": null,
   "id": "509b5279",
   "metadata": {},
   "outputs": [],
   "source": [
    "if __name__ == '__main__':\n",
    "    n = int(input())\n",
    "    student_marks = {}\n",
    "    for i in range(n):\n",
    "        name, *line = input().split()\n",
    "        scores = list(map(float, line))\n",
    "        student_marks[name] = scores\n",
    "    query_name = input()\n",
    "    length_of_array = len(student_marks[query_name]);\n",
    "    sum = sum(student_marks[query_name]);\n",
    "    average = sum / length_of_array;\n",
    "    print(f\"{average:.2f}\")\n",
    "        "
   ]
  },
  {
   "cell_type": "code",
   "execution_count": 7,
   "id": "6bbf6949",
   "metadata": {},
   "outputs": [
    {
     "name": "stdout",
     "output_type": "stream",
     "text": [
      "aaabacabb\n",
      "3\n"
     ]
    },
    {
     "ename": "NameError",
     "evalue": "name 'strng' is not defined",
     "output_type": "error",
     "traceback": [
      "\u001b[1;31m---------------------------------------------------------------------------\u001b[0m",
      "\u001b[1;31mNameError\u001b[0m                                 Traceback (most recent call last)",
      "Cell \u001b[1;32mIn[7], line 17\u001b[0m\n\u001b[0;32m     15\u001b[0m \u001b[38;5;28;01mif\u001b[39;00m \u001b[38;5;18m__name__\u001b[39m \u001b[38;5;241m==\u001b[39m \u001b[38;5;124m'\u001b[39m\u001b[38;5;124m__main__\u001b[39m\u001b[38;5;124m'\u001b[39m:\n\u001b[0;32m     16\u001b[0m     string, k \u001b[38;5;241m=\u001b[39m \u001b[38;5;28minput\u001b[39m(), \u001b[38;5;28mint\u001b[39m(\u001b[38;5;28minput\u001b[39m())\n\u001b[1;32m---> 17\u001b[0m     \u001b[43mmerge_the_tools\u001b[49m\u001b[43m(\u001b[49m\u001b[43mstring\u001b[49m\u001b[43m,\u001b[49m\u001b[43m \u001b[49m\u001b[43mk\u001b[49m\u001b[43m)\u001b[49m\n",
      "Cell \u001b[1;32mIn[7], line 5\u001b[0m, in \u001b[0;36mmerge_the_tools\u001b[1;34m(string, k)\u001b[0m\n\u001b[0;32m      3\u001b[0m n\u001b[38;5;241m=\u001b[39m\u001b[38;5;28mlen\u001b[39m(string)\n\u001b[0;32m      4\u001b[0m s\u001b[38;5;241m=\u001b[39mn\u001b[38;5;241m/\u001b[39mk\n\u001b[1;32m----> 5\u001b[0m l1\u001b[38;5;241m=\u001b[39m\u001b[43mstrng\u001b[49m[\u001b[38;5;241m0\u001b[39m]\n\u001b[0;32m      6\u001b[0m t\u001b[38;5;241m=\u001b[39m[]\n\u001b[0;32m      8\u001b[0m \u001b[38;5;28;01mfor\u001b[39;00m i \u001b[38;5;129;01min\u001b[39;00m \u001b[38;5;28mrange\u001b[39m(n):\n",
      "\u001b[1;31mNameError\u001b[0m: name 'strng' is not defined"
     ]
    }
   ],
   "source": [
    "def merge_the_tools(string, k):\n",
    "    # your code goes here\n",
    "    n=len(string)\n",
    "    s=n/k\n",
    "    l1=strng[0]\n",
    "    t=[]\n",
    "\n",
    "    for i in range(n):\n",
    "        if(l1==strng):\n",
    "          print(l1)\n",
    "          break\n",
    "        else:\n",
    "            print(t+strng)\n",
    "\n",
    "if __name__ == '__main__':\n",
    "    string, k = input(), int(input())\n",
    "    merge_the_tools(string, k)"
   ]
  },
  {
   "cell_type": "code",
   "execution_count": null,
   "id": "84acece6",
   "metadata": {},
   "outputs": [],
   "source": []
  }
 ],
 "metadata": {
  "kernelspec": {
   "display_name": "Python 3 (ipykernel)",
   "language": "python",
   "name": "python3"
  },
  "language_info": {
   "codemirror_mode": {
    "name": "ipython",
    "version": 3
   },
   "file_extension": ".py",
   "mimetype": "text/x-python",
   "name": "python",
   "nbconvert_exporter": "python",
   "pygments_lexer": "ipython3",
   "version": "3.10.9"
  }
 },
 "nbformat": 4,
 "nbformat_minor": 5
}
